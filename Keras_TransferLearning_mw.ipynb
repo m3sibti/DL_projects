{
  "nbformat": 4,
  "nbformat_minor": 0,
  "metadata": {
    "colab": {
      "name": "Keras_TransferLearning_mw.ipynb",
      "provenance": [],
      "authorship_tag": "ABX9TyNljhpOt1V6F2sZHbS01sI7",
      "include_colab_link": true
    },
    "kernelspec": {
      "name": "python3",
      "display_name": "Python 3"
    },
    "accelerator": "GPU"
  },
  "cells": [
    {
      "cell_type": "markdown",
      "metadata": {
        "id": "view-in-github",
        "colab_type": "text"
      },
      "source": [
        "<a href=\"https://colab.research.google.com/github/m3sibti/DL_projects/blob/master/Keras_TransferLearning_mw.ipynb\" target=\"_parent\"><img src=\"https://colab.research.google.com/assets/colab-badge.svg\" alt=\"Open In Colab\"/></a>"
      ]
    },
    {
      "cell_type": "markdown",
      "metadata": {
        "id": "p_hDeVirpUVE",
        "colab_type": "text"
      },
      "source": [
        "# Transfer Learning "
      ]
    },
    {
      "cell_type": "markdown",
      "metadata": {
        "id": "Bkzte9r4paDn",
        "colab_type": "text"
      },
      "source": [
        "Steps to do any transfer learning work are given below\n",
        "- Get the dataset\n",
        "- Visualize the dataset\n",
        "- Preprocess the dataset\n",
        "  - Standardized\n",
        "  - Cache with batch\n",
        "  - Augmentation\n",
        "- Create the model\n",
        "- Train the top model\n",
        "- Retrain with lower layers\n",
        "- Evaluate the model"
      ]
    },
    {
      "cell_type": "markdown",
      "metadata": {
        "id": "qUBmsbjAp4lv",
        "colab_type": "text"
      },
      "source": [
        "## Get the dataset"
      ]
    },
    {
      "cell_type": "markdown",
      "metadata": {
        "id": "vol7GfrFqAcD",
        "colab_type": "text"
      },
      "source": [
        "Go pick your testing dataset from  [Tensorflow Datasets](https://www.tensorflow.org/datasets/catalog/overview) and use there guide to pick the dataset"
      ]
    },
    {
      "cell_type": "code",
      "metadata": {
        "id": "P0tSYUDdoe8G",
        "colab_type": "code",
        "colab": {}
      },
      "source": [
        ""
      ],
      "execution_count": 0,
      "outputs": []
    }
  ]
}