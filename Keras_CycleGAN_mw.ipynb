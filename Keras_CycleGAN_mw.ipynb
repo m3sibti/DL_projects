{
  "nbformat": 4,
  "nbformat_minor": 0,
  "metadata": {
    "colab": {
      "name": "Keras_CycleGAN_mw.ipynb",
      "provenance": [],
      "collapsed_sections": [
        "EvXC5EH0JGQT",
        "1mW5WdozJfml",
        "ab5nhRsBQhHj",
        "ywW9KPIETHQY",
        "KYHrDxONXwXb",
        "EK3480ghXFsE",
        "YhJcebIFncXB"
      ],
      "toc_visible": true,
      "authorship_tag": "ABX9TyMitNCVKVhfpMFnjX0GWEJY",
      "include_colab_link": true
    },
    "kernelspec": {
      "name": "python3",
      "display_name": "Python 3"
    },
    "accelerator": "GPU"
  },
  "cells": [
    {
      "cell_type": "markdown",
      "metadata": {
        "id": "view-in-github",
        "colab_type": "text"
      },
      "source": [
        "<a href=\"https://colab.research.google.com/github/m3sibti/DL_projects/blob/master/Keras_CycleGAN_mw.ipynb\" target=\"_parent\"><img src=\"https://colab.research.google.com/assets/colab-badge.svg\" alt=\"Open In Colab\"/></a>"
      ]
    },
    {
      "cell_type": "markdown",
      "metadata": {
        "id": "vYSs_oDnIuk-",
        "colab_type": "text"
      },
      "source": [
        "# Cycle-GAN\n",
        "\n",
        "Image-to-Image Unpaired Translation"
      ]
    },
    {
      "cell_type": "markdown",
      "metadata": {
        "id": "EvXC5EH0JGQT",
        "colab_type": "text"
      },
      "source": [
        "## Imports"
      ]
    },
    {
      "cell_type": "code",
      "metadata": {
        "id": "TgpBN96wIHVw",
        "colab_type": "code",
        "colab": {}
      },
      "source": [
        "import os\n",
        "import numpy as np\n",
        "import matplotlib.pyplot as plt\n",
        "import scipy.ndimage.interpolation\n",
        "import tensorflow as tf\n",
        "from tensorflow import keras\n",
        "from tensorflow.keras import models, layers\n",
        "from tensorflow.keras.preprocessing import image"
      ],
      "execution_count": 0,
      "outputs": []
    },
    {
      "cell_type": "markdown",
      "metadata": {
        "id": "1mW5WdozJfml",
        "colab_type": "text"
      },
      "source": [
        "## Prepare the dataset"
      ]
    },
    {
      "cell_type": "code",
      "metadata": {
        "id": "fsC4dEF0JbZM",
        "colab_type": "code",
        "outputId": "45195048-681c-410b-b7be-34e2929f6da3",
        "colab": {
          "base_uri": "https://localhost:8080/",
          "height": 204
        }
      },
      "source": [
        "(x_train, _), (x_test, _) = keras.datasets.fashion_mnist.load_data()\n",
        "\n",
        "print('Training Samples ', x_train.shape)\n",
        "print('Test Samples',x_test.shape)\n",
        "x_data = np.vstack((x_train, x_test))\n",
        "print('Combined Samples', x_data.shape)"
      ],
      "execution_count": 2,
      "outputs": [
        {
          "output_type": "stream",
          "text": [
            "Downloading data from https://storage.googleapis.com/tensorflow/tf-keras-datasets/train-labels-idx1-ubyte.gz\n",
            "32768/29515 [=================================] - 0s 0us/step\n",
            "Downloading data from https://storage.googleapis.com/tensorflow/tf-keras-datasets/train-images-idx3-ubyte.gz\n",
            "26427392/26421880 [==============================] - 0s 0us/step\n",
            "Downloading data from https://storage.googleapis.com/tensorflow/tf-keras-datasets/t10k-labels-idx1-ubyte.gz\n",
            "8192/5148 [===============================================] - 0s 0us/step\n",
            "Downloading data from https://storage.googleapis.com/tensorflow/tf-keras-datasets/t10k-images-idx3-ubyte.gz\n",
            "4423680/4422102 [==============================] - 0s 0us/step\n",
            "Training Samples  (60000, 28, 28)\n",
            "Test Samples (10000, 28, 28)\n",
            "Combined Samples (70000, 28, 28)\n"
          ],
          "name": "stdout"
        }
      ]
    },
    {
      "cell_type": "markdown",
      "metadata": {
        "id": "7N85C6-ILm3Y",
        "colab_type": "text"
      },
      "source": [
        "Find the mid point and rotate the other half to create a second domain Y against first half X"
      ]
    },
    {
      "cell_type": "code",
      "metadata": {
        "id": "_b-qdwwkLx-D",
        "colab_type": "code",
        "colab": {}
      },
      "source": [
        "mid_point = int(x_data.shape[0]/2)"
      ],
      "execution_count": 0,
      "outputs": []
    },
    {
      "cell_type": "code",
      "metadata": {
        "id": "1f-LRdd0L2r_",
        "colab_type": "code",
        "colab": {}
      },
      "source": [
        "x_real = x_data[:mid_point]\n",
        "x_real = x_real.reshape(-1, 28*28)\n",
        "x_real = x_real.astype('float32')"
      ],
      "execution_count": 0,
      "outputs": []
    },
    {
      "cell_type": "code",
      "metadata": {
        "id": "H4QPoC8SL3pj",
        "colab_type": "code",
        "colab": {}
      },
      "source": [
        "x_rotated = x_data[mid_point:]\n",
        "x_rotated = scipy.ndimage.interpolation.rotate(x_rotated, 90, axes=(1, 2))\n",
        "x_rotated = x_rotated.reshape(-1, 28*28)\n",
        "\n",
        "x_rotated = x_rotated.astype('float32')"
      ],
      "execution_count": 0,
      "outputs": []
    },
    {
      "cell_type": "code",
      "metadata": {
        "id": "UNRCqbt6MbU6",
        "colab_type": "code",
        "outputId": "f98bf80b-d3a3-4588-f530-9295b2fba9a1",
        "colab": {
          "base_uri": "https://localhost:8080/",
          "height": 34
        }
      },
      "source": [
        "x_real.shape, x_rotated.shape"
      ],
      "execution_count": 6,
      "outputs": [
        {
          "output_type": "execute_result",
          "data": {
            "text/plain": [
              "((35000, 784), (35000, 784))"
            ]
          },
          "metadata": {
            "tags": []
          },
          "execution_count": 6
        }
      ]
    },
    {
      "cell_type": "markdown",
      "metadata": {
        "id": "qAN3u3JDMtDs",
        "colab_type": "text"
      },
      "source": [
        "Visualize the Images"
      ]
    },
    {
      "cell_type": "code",
      "metadata": {
        "id": "WsQX_SjsMep_",
        "colab_type": "code",
        "outputId": "57c3a2a8-1dea-4296-8ebb-9c28051a7e2b",
        "colab": {
          "base_uri": "https://localhost:8080/",
          "height": 248
        }
      },
      "source": [
        "def show_images(x_real, x_rotated):\n",
        "  fig, axs = plt.subplots(2, 3)\n",
        "  [axi.set_axis_off() for axi in axs.ravel()]\n",
        "  for i in range(3):\n",
        "    x_img_real = x_real[i].reshape(28, 28)\n",
        "    x_img_rotated = x_rotated[i].reshape(28, 28)\n",
        "    axs[0][i].imshow(x_img_real)\n",
        "    axs[1][i].imshow(x_img_rotated)\n",
        "\n",
        "show_images(x_real, x_rotated)"
      ],
      "execution_count": 7,
      "outputs": [
        {
          "output_type": "display_data",
          "data": {
            "image/png": "[encoded data removed]",
            "text/plain": [
              "<Figure size 432x288 with 6 Axes>"
            ]
          },
          "metadata": {
            "tags": [],
            "needs_background": "light"
          }
        }
      ]
    },
    {
      "cell_type": "markdown",
      "metadata": {
        "id": "ghB_7uPsP-w_",
        "colab_type": "text"
      },
      "source": [
        "Normalize the dataset and convert into single dataset object"
      ]
    },
    {
      "cell_type": "code",
      "metadata": {
        "id": "eFppHdY_NNI1",
        "colab_type": "code",
        "colab": {}
      },
      "source": [
        "x_real = x_real / 255.\n",
        "x_rotated = x_rotated / 255."
      ],
      "execution_count": 0,
      "outputs": []
    },
    {
      "cell_type": "code",
      "metadata": {
        "id": "k2thSbOaQOU8",
        "colab_type": "code",
        "colab": {}
      },
      "source": [
        "data = tf.data.Dataset.from_tensor_slices((x_real, x_rotated))\n",
        "data = data.shuffle(1024).batch(32).prefetch(16)"
      ],
      "execution_count": 0,
      "outputs": []
    },
    {
      "cell_type": "markdown",
      "metadata": {
        "id": "ab5nhRsBQhHj",
        "colab_type": "text"
      },
      "source": [
        "## Create Models"
      ]
    },
    {
      "cell_type": "markdown",
      "metadata": {
        "id": "Vq4PSIaFQ3X4",
        "colab_type": "text"
      },
      "source": [
        "### Discriminators"
      ]
    },
    {
      "cell_type": "code",
      "metadata": {
        "id": "CnGSP7BJQ7al",
        "colab_type": "code",
        "colab": {}
      },
      "source": [
        "Disc_X = models.Sequential([\n",
        "                            keras.Input(shape=(784,)),\n",
        "                            layers.Dense(128, activation='relu',\n",
        "                                         kernel_initializer=keras.initializers.glorot_normal,\n",
        "                                         bias_initializer=keras.initializers.glorot_normal),\n",
        "                            layers.Dense(1, activation='sigmoid',\n",
        "                                         kernel_initializer=keras.initializers.glorot_normal,\n",
        "                                         bias_initializer=keras.initializers.glorot_normal),\n",
        "])\n",
        "\n",
        "Disc_Y = models.Sequential([\n",
        "                            keras.Input(shape=(784,)),\n",
        "                            layers.Dense(128, activation='relu',\n",
        "                                         kernel_initializer=keras.initializers.glorot_normal,\n",
        "                                         bias_initializer=keras.initializers.glorot_normal),\n",
        "                            layers.Dense(1, activation='sigmoid',\n",
        "                                         kernel_initializer=keras.initializers.glorot_normal,\n",
        "                                         bias_initializer=keras.initializers.glorot_normal),\n",
        "])"
      ],
      "execution_count": 0,
      "outputs": []
    },
    {
      "cell_type": "code",
      "metadata": {
        "id": "hhxlESDzS56c",
        "colab_type": "code",
        "outputId": "a92e3443-033e-4ae5-d3b1-3f80b78b7889",
        "colab": {
          "base_uri": "https://localhost:8080/",
          "height": 459
        }
      },
      "source": [
        "print(Disc_X.summary())\n",
        "print(Disc_Y.summary())"
      ],
      "execution_count": 11,
      "outputs": [
        {
          "output_type": "stream",
          "text": [
            "Model: \"sequential\"\n",
            "_________________________________________________________________\n",
            "Layer (type)                 Output Shape              Param #   \n",
            "=================================================================\n",
            "dense (Dense)                (None, 128)               100480    \n",
            "_________________________________________________________________\n",
            "dense_1 (Dense)              (None, 1)                 129       \n",
            "=================================================================\n",
            "Total params: 100,609\n",
            "Trainable params: 100,609\n",
            "Non-trainable params: 0\n",
            "_________________________________________________________________\n",
            "None\n",
            "Model: \"sequential_1\"\n",
            "_________________________________________________________________\n",
            "Layer (type)                 Output Shape              Param #   \n",
            "=================================================================\n",
            "dense_2 (Dense)              (None, 128)               100480    \n",
            "_________________________________________________________________\n",
            "dense_3 (Dense)              (None, 1)                 129       \n",
            "=================================================================\n",
            "Total params: 100,609\n",
            "Trainable params: 100,609\n",
            "Non-trainable params: 0\n",
            "_________________________________________________________________\n",
            "None\n"
          ],
          "name": "stdout"
        }
      ]
    },
    {
      "cell_type": "markdown",
      "metadata": {
        "id": "5QEDC8UqSK4w",
        "colab_type": "text"
      },
      "source": [
        "### Generators"
      ]
    },
    {
      "cell_type": "code",
      "metadata": {
        "id": "9EtDuRiHSA1M",
        "colab_type": "code",
        "colab": {}
      },
      "source": [
        "Gen_G = models.Sequential([\n",
        "                            keras.Input(shape=(784,)),\n",
        "                            layers.Dense(128, activation='relu',\n",
        "                                         kernel_initializer=keras.initializers.glorot_normal,\n",
        "                                         bias_initializer=keras.initializers.glorot_normal),\n",
        "                            layers.Dense(784, activation='sigmoid',\n",
        "                                         kernel_initializer=keras.initializers.glorot_normal,\n",
        "                                         bias_initializer=keras.initializers.glorot_normal),\n",
        "])\n",
        "\n",
        "Gen_F = models.Sequential([\n",
        "                            keras.Input(shape=(784,)),\n",
        "                            layers.Dense(128, activation='relu',\n",
        "                                         kernel_initializer=keras.initializers.glorot_normal,\n",
        "                                         bias_initializer=keras.initializers.glorot_normal),\n",
        "                            layers.Dense(784, activation='sigmoid',\n",
        "                                         kernel_initializer=keras.initializers.glorot_normal,\n",
        "                                         bias_initializer=keras.initializers.glorot_normal),\n",
        "])"
      ],
      "execution_count": 0,
      "outputs": []
    },
    {
      "cell_type": "code",
      "metadata": {
        "id": "sV0sEjUwTByv",
        "colab_type": "code",
        "outputId": "d4c81861-27a4-4013-e136-a75982097775",
        "colab": {
          "base_uri": "https://localhost:8080/",
          "height": 459
        }
      },
      "source": [
        "print(Gen_G.summary())\n",
        "print(Gen_F.summary())"
      ],
      "execution_count": 13,
      "outputs": [
        {
          "output_type": "stream",
          "text": [
            "Model: \"sequential_2\"\n",
            "_________________________________________________________________\n",
            "Layer (type)                 Output Shape              Param #   \n",
            "=================================================================\n",
            "dense_4 (Dense)              (None, 128)               100480    \n",
            "_________________________________________________________________\n",
            "dense_5 (Dense)              (None, 784)               101136    \n",
            "=================================================================\n",
            "Total params: 201,616\n",
            "Trainable params: 201,616\n",
            "Non-trainable params: 0\n",
            "_________________________________________________________________\n",
            "None\n",
            "Model: \"sequential_3\"\n",
            "_________________________________________________________________\n",
            "Layer (type)                 Output Shape              Param #   \n",
            "=================================================================\n",
            "dense_6 (Dense)              (None, 128)               100480    \n",
            "_________________________________________________________________\n",
            "dense_7 (Dense)              (None, 784)               101136    \n",
            "=================================================================\n",
            "Total params: 201,616\n",
            "Trainable params: 201,616\n",
            "Non-trainable params: 0\n",
            "_________________________________________________________________\n",
            "None\n"
          ],
          "name": "stdout"
        }
      ]
    },
    {
      "cell_type": "markdown",
      "metadata": {
        "id": "ywW9KPIETHQY",
        "colab_type": "text"
      },
      "source": [
        "## Override Training Step"
      ]
    },
    {
      "cell_type": "code",
      "metadata": {
        "id": "LlQQea0-TLCe",
        "colab_type": "code",
        "colab": {}
      },
      "source": [
        "class CycleGAN(models.Model):\n",
        "\n",
        "  def __init__(self, disc_x, disc_y, gen_g, gen_f):\n",
        "    super(CycleGAN, self).__init__()\n",
        "    self.disc_x = disc_x\n",
        "    self.disc_y = disc_y\n",
        "    self.gen_g = gen_g\n",
        "    self.gen_f = gen_f\n",
        "    \n",
        "  def compile(self, disc_x_opt, disc_y_opt, gen_g_opt, gen_f_opt,\n",
        "              disc_loss, gen_loss, cycled_loss, iden_loss):\n",
        "    super(CycleGAN, self).compile()\n",
        "    self.disc_x_opt = disc_x_opt\n",
        "    self.disc_y_opt = disc_y_opt\n",
        "    self.gen_g_opt = gen_g_opt\n",
        "    self.gen_f_opt = gen_f_opt\n",
        "    self.disc_loss = disc_loss\n",
        "    self.gen_loss = gen_loss\n",
        "    self.cycled_loss = cycled_loss\n",
        "    self.iden_loss = iden_loss\n",
        "\n",
        "  def train_step(self, X):\n",
        "    # real_x, real_y = X[0], X[1]\n",
        "    real_x, real_y = X\n",
        "\n",
        "    # set persistent is use because tape is used to calculate gradients multiple times\n",
        "    with tf.GradientTape(persistent=True) as tape:\n",
        "      \n",
        "      # first cycle\n",
        "      fake_y = self.gen_g(real_x, training=True)\n",
        "      cycled_x = self.gen_f(fake_y, training=True)\n",
        "      \n",
        "      fake_x = self.gen_f(real_y, training=True)\n",
        "      cycled_y = self.gen_g(fake_x, training=True)\n",
        "\n",
        "      # second cycle\n",
        "      same_x = self.gen_f(real_x, training=True)\n",
        "      same_y = self.gen_g(real_y, training=True)\n",
        "\n",
        "      # discriminator pass\n",
        "      disc_real_x = self.disc_x(real_x, training=True)\n",
        "      disc_real_y = self.disc_y(real_y, training=True)\n",
        "\n",
        "      disc_fake_x = self.disc_x(fake_x, training=True)\n",
        "      disc_fake_y = self.disc_y(fake_y, training=True)\n",
        "\n",
        "      # calculate loss\n",
        "      gen_g_loss = self.gen_loss(disc_fake_y)\n",
        "      gen_f_loss = self.gen_loss(disc_fake_x)\n",
        "\n",
        "      total_cycle_loss = self.cycled_loss(real_x, cycled_x) + self.cycled_loss(real_y, cycled_y)\n",
        "\n",
        "      # total G loss = adv_loss + cycle_loss + identity_loss\n",
        "      total_gen_g_loss = gen_g_loss + total_cycle_loss + self.iden_loss(real_y, same_y)\n",
        "      total_gen_f_loss = gen_f_loss + total_cycle_loss + self.iden_loss(real_x, same_x)\n",
        "\n",
        "      # discriminator loss\n",
        "      disc_x_loss = self.disc_loss(disc_real_x, disc_fake_x)\n",
        "      disc_y_loss = self.disc_loss(disc_real_y, disc_fake_y)\n",
        "\n",
        "    # calculate the grads\n",
        "    gen_g_grads = tape.gradient(total_gen_g_loss,\n",
        "                                self.gen_g.trainable_weights)\n",
        "    gen_f_grads = tape.gradient(total_gen_f_loss,\n",
        "                                self.gen_f.trainable_weights)\n",
        "    disc_x_grads = tape.gradient(disc_x_loss,\n",
        "                                self.disc_x.trainable_weights)\n",
        "    disc_y_grads = tape.gradient(disc_y_loss,\n",
        "                                self.disc_y.trainable_weights)\n",
        "\n",
        "    # apply gradients\n",
        "    self.gen_g_opt.apply_gradients(zip(gen_g_grads,\n",
        "                                       self.gen_g.trainable_weights))\n",
        "    self.gen_f_opt.apply_gradients(zip(gen_f_grads,\n",
        "                                       self.gen_f.trainable_weights))\n",
        "    self.disc_x_opt.apply_gradients(zip(disc_x_grads,\n",
        "                                       self.disc_x.trainable_weights))\n",
        "    self.disc_y_opt.apply_gradients(zip(disc_y_grads,\n",
        "                                       self.disc_y.trainable_weights))\n",
        "    \n",
        "    return {'g_loss': (total_gen_g_loss + total_gen_f_loss)/2,\n",
        "            'd_loss': (disc_x_loss + disc_y_loss)/2}\n",
        "\n"
      ],
      "execution_count": 0,
      "outputs": []
    },
    {
      "cell_type": "markdown",
      "metadata": {
        "id": "KYHrDxONXwXb",
        "colab_type": "text"
      },
      "source": [
        "## Callback"
      ]
    },
    {
      "cell_type": "code",
      "metadata": {
        "id": "Wb7bSFV6Xw29",
        "colab_type": "code",
        "colab": {}
      },
      "source": [
        "class CycleGANMonitor(keras.callbacks.Callback):\n",
        "\n",
        "  def __init__(self, real_a, real_b):\n",
        "    self.real_a = real_a\n",
        "    self.real_b = real_b\n",
        "    os.makedirs('images', exist_ok=True)\n",
        "\n",
        "  def on_epoch_end(self, epoch, logs=None):\n",
        "\n",
        "    if epoch % 5 == 0:\n",
        "      generated_images_b = self.model.gen_g(self.real_a, training=False)\n",
        "      generated_images_b = generated_images_b * 255.\n",
        "      generated_images_b = generated_images_b.numpy()\n",
        "      generated_images_b = generated_images_b.reshape(-1, 28, 28)\n",
        "      r, c = 5, 5\n",
        "      fig, axs = plt.subplots(r, c)\n",
        "      cnt = 0\n",
        "      for i in range(r):\n",
        "        for j in range(c):\n",
        "          axs[i,j].imshow(generated_images_b[cnt, :,:])  #, cmap='gray')\n",
        "          axs[i,j].axis('off')\n",
        "          cnt += 1\n",
        "      fig.savefig(\"images/genB_%d.png\" % epoch)\n",
        "      plt.close()\n",
        "\n",
        "      generated_images_a = self.model.gen_f(self.real_b, training=False)\n",
        "      generated_images_a = generated_images_a * 255.\n",
        "      generated_images_a = generated_images_a.numpy()\n",
        "      generated_images_a = generated_images_a.reshape(-1, 28, 28)\n",
        "      r, c = 5, 5\n",
        "      fig, axs = plt.subplots(r, c)\n",
        "      cnt = 0\n",
        "      for i in range(r):\n",
        "        for j in range(c):\n",
        "          axs[i,j].imshow(generated_images_a[cnt, :,:])  #, cmap='gray')\n",
        "          axs[i,j].axis('off')\n",
        "          cnt += 1\n",
        "      fig.savefig(\"images/genA_%d.png\" % epoch)\n",
        "      plt.close()"
      ],
      "execution_count": 0,
      "outputs": []
    },
    {
      "cell_type": "code",
      "metadata": {
        "id": "gtuw5j0vZltJ",
        "colab_type": "code",
        "colab": {}
      },
      "source": [
        "cbk = CycleGANMonitor(x_real[ :100], x_rotated[ :100])"
      ],
      "execution_count": 0,
      "outputs": []
    },
    {
      "cell_type": "markdown",
      "metadata": {
        "id": "EK3480ghXFsE",
        "colab_type": "text"
      },
      "source": [
        "## Parameters of the model"
      ]
    },
    {
      "cell_type": "code",
      "metadata": {
        "id": "wNF0dgujP5Ro",
        "colab_type": "code",
        "colab": {}
      },
      "source": [
        "loss_obj = keras.losses.BinaryCrossentropy(from_logits=True)"
      ],
      "execution_count": 0,
      "outputs": []
    },
    {
      "cell_type": "markdown",
      "metadata": {
        "id": "h61Z0ih3nE_m",
        "colab_type": "text"
      },
      "source": [
        "#### Disc Losses"
      ]
    },
    {
      "cell_type": "code",
      "metadata": {
        "id": "gu_5ywwLhSTC",
        "colab_type": "code",
        "colab": {}
      },
      "source": [
        "def disc_loss(real, generated):\n",
        "  real_loss = loss_obj(tf.ones_like(real), real)\n",
        "  fake_loss = loss_obj(tf.zeros_like(real), generated)\n",
        "\n",
        "  total_loss = real_loss + fake_loss\n",
        "  return total_loss * 0.5"
      ],
      "execution_count": 0,
      "outputs": []
    },
    {
      "cell_type": "markdown",
      "metadata": {
        "id": "SY7j9KV-nIbZ",
        "colab_type": "text"
      },
      "source": [
        "#### Gen Losses"
      ]
    },
    {
      "cell_type": "code",
      "metadata": {
        "id": "V5E5ptDljeIc",
        "colab_type": "code",
        "colab": {}
      },
      "source": [
        "def gen_loss(generated):\n",
        "  return loss_obj(tf.ones_like(generated), generated)"
      ],
      "execution_count": 0,
      "outputs": []
    },
    {
      "cell_type": "markdown",
      "metadata": {
        "id": "_X8D71-wQwgn",
        "colab_type": "text"
      },
      "source": [
        "#### Cycle Losses"
      ]
    },
    {
      "cell_type": "code",
      "metadata": {
        "id": "wshRP9A_QzlW",
        "colab_type": "code",
        "colab": {}
      },
      "source": [
        "def calc_cycle_loss(real_imgs, cycled_imgs):\n",
        "  loss1 = tf.reduce_mean(tf.abs(real_imgs - cycled_imgs))\n",
        "  return 10*loss1"
      ],
      "execution_count": 0,
      "outputs": []
    },
    {
      "cell_type": "markdown",
      "metadata": {
        "id": "Ryv2QskTQz51",
        "colab_type": "text"
      },
      "source": [
        "#### Identity Loss"
      ]
    },
    {
      "cell_type": "code",
      "metadata": {
        "id": "Bs4x98nwQ0us",
        "colab_type": "code",
        "colab": {}
      },
      "source": [
        "def identity_loss(real_imgs, cycled_imgs):\n",
        "  loss = tf.reduce_mean(tf.abs(real_imgs - cycled_imgs))\n",
        "  return 10 * 0.5 * loss"
      ],
      "execution_count": 0,
      "outputs": []
    },
    {
      "cell_type": "markdown",
      "metadata": {
        "id": "s28zI1fEoYVY",
        "colab_type": "text"
      },
      "source": [
        "#### Optimizers"
      ]
    },
    {
      "cell_type": "code",
      "metadata": {
        "id": "Q-s4qBemnf1B",
        "colab_type": "code",
        "colab": {}
      },
      "source": [
        "opt_Dx = keras.optimizers.Adam(2e-4, beta_1=0.5)\n",
        "opt_Dy = keras.optimizers.Adam(2e-4, beta_1=0.5)\n",
        "opt_Gg = keras.optimizers.Adam(2e-4, beta_1=0.5)\n",
        "opt_Gf = keras.optimizers.Adam(2e-4, beta_1=0.5)"
      ],
      "execution_count": 0,
      "outputs": []
    },
    {
      "cell_type": "markdown",
      "metadata": {
        "id": "YhJcebIFncXB",
        "colab_type": "text"
      },
      "source": [
        "## Compile Model"
      ]
    },
    {
      "cell_type": "code",
      "metadata": {
        "id": "wovwGkbsR3pb",
        "colab_type": "code",
        "colab": {}
      },
      "source": [
        "model = CycleGAN(Disc_X, Disc_Y, Gen_G, Gen_F)"
      ],
      "execution_count": 0,
      "outputs": []
    },
    {
      "cell_type": "code",
      "metadata": {
        "id": "j05_3uQuXJAP",
        "colab_type": "code",
        "colab": {}
      },
      "source": [
        "model.compile(\n",
        "    opt_Dx, opt_Dy, opt_Gg, opt_Gf,\n",
        "    disc_loss, gen_loss, calc_cycle_loss, identity_loss\n",
        "    )"
      ],
      "execution_count": 0,
      "outputs": []
    },
    {
      "cell_type": "code",
      "metadata": {
        "id": "kU5gGTaFXPyO",
        "colab_type": "code",
        "outputId": "fa928250-5274-46e7-e148-cd2a8afd3a47",
        "colab": {
          "base_uri": "https://localhost:8080/",
          "height": 374
        }
      },
      "source": [
        "# model.fit(data, epochs=10, callbacks=[cbk])\n",
        "model.fit(x_real, x_rotated, epochs=10, callbacks=[cbk])"
      ],
      "execution_count": 26,
      "outputs": [
        {
          "output_type": "stream",
          "text": [
            "Epoch 1/10\n",
            "1094/1094 [==============================] - 9s 8ms/step - g_loss: 2.3836 - d_loss: 0.6149\n",
            "Epoch 2/10\n",
            "1094/1094 [==============================] - 8s 8ms/step - g_loss: 2.3635 - d_loss: 0.6146\n",
            "Epoch 3/10\n",
            "1094/1094 [==============================] - 8s 8ms/step - g_loss: 2.3445 - d_loss: 0.6150\n",
            "Epoch 4/10\n",
            "1094/1094 [==============================] - 8s 8ms/step - g_loss: 2.3280 - d_loss: 0.6156\n",
            "Epoch 5/10\n",
            "1094/1094 [==============================] - 8s 8ms/step - g_loss: 2.3116 - d_loss: 0.6162\n",
            "Epoch 6/10\n",
            "1094/1094 [==============================] - 9s 8ms/step - g_loss: 2.2984 - d_loss: 0.6174\n",
            "Epoch 7/10\n",
            "1094/1094 [==============================] - 8s 8ms/step - g_loss: 2.2854 - d_loss: 0.6181\n",
            "Epoch 8/10\n",
            "1094/1094 [==============================] - 8s 8ms/step - g_loss: 2.2716 - d_loss: 0.6171\n",
            "Epoch 9/10\n",
            "1094/1094 [==============================] - 8s 8ms/step - g_loss: 2.2610 - d_loss: 0.6177\n",
            "Epoch 10/10\n",
            "1094/1094 [==============================] - 8s 8ms/step - g_loss: 2.2503 - d_loss: 0.6174\n"
          ],
          "name": "stdout"
        },
        {
          "output_type": "execute_result",
          "data": {
            "text/plain": [
              "<tensorflow.python.keras.callbacks.History at 0x7f40129840b8>"
            ]
          },
          "metadata": {
            "tags": []
          },
          "execution_count": 26
        }
      ]
    },
    {
      "cell_type": "markdown",
      "metadata": {
        "id": "qgU8jSaOfcxM",
        "colab_type": "text"
      },
      "source": [
        "## References"
      ]
    },
    {
      "cell_type": "markdown",
      "metadata": {
        "id": "n0vIzmK7ffSq",
        "colab_type": "text"
      },
      "source": [
        "- [Ahlad Kumar | YouTube](https://www.youtube.com/playlist?list=PLdxQ7SoCLQAN2v0BytaqP6aX2Jx0mjROP)\n",
        "- [CycleGAN | TensorFlow](https://www.tensorflow.org/tutorials/generative/cyclegan)"
      ]
    },
    {
      "cell_type": "code",
      "metadata": {
        "id": "GjC4qPj_f3ie",
        "colab_type": "code",
        "colab": {}
      },
      "source": [
        ""
      ],
      "execution_count": 0,
      "outputs": []
    }
  ]
}