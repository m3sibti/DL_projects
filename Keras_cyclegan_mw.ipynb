{
  "nbformat": 4,
  "nbformat_minor": 0,
  "metadata": {
    "colab": {
      "name": "Keras_cyclegan_mw.ipynb",
      "provenance": [],
      "collapsed_sections": [
        "1mW5WdozJfml",
        "ab5nhRsBQhHj"
      ],
      "toc_visible": true,
      "authorship_tag": "ABX9TyNkJ0LgwNxDXZlGmL4GPKfp",
      "include_colab_link": true
    },
    "kernelspec": {
      "name": "python3",
      "display_name": "Python 3"
    },
    "accelerator": "GPU"
  },
  "cells": [
    {
      "cell_type": "markdown",
      "metadata": {
        "id": "view-in-github",
        "colab_type": "text"
      },
      "source": [
        "<a href=\"https://colab.research.google.com/github/m3sibti/DL_projects/blob/master/Keras_cyclegan_mw.ipynb\" target=\"_parent\"><img src=\"https://colab.research.google.com/assets/colab-badge.svg\" alt=\"Open In Colab\"/></a>"
      ]
    },
    {
      "cell_type": "markdown",
      "metadata": {
        "id": "vYSs_oDnIuk-",
        "colab_type": "text"
      },
      "source": [
        "# Cycle-GAN\n",
        "\n",
        "Image-to-Image Unpaired Translation"
      ]
    },
    {
      "cell_type": "markdown",
      "metadata": {
        "id": "EvXC5EH0JGQT",
        "colab_type": "text"
      },
      "source": [
        "## Imports"
      ]
    },
    {
      "cell_type": "code",
      "metadata": {
        "id": "TgpBN96wIHVw",
        "colab_type": "code",
        "colab": {}
      },
      "source": [
        "import os\n",
        "import numpy as np\n",
        "import matplotlib.pyplot as plt\n",
        "import scipy.ndimage.interpolation\n",
        "import tensorflow as tf\n",
        "from tensorflow import keras\n",
        "from tensorflow.keras import models, layers\n",
        "from tensorflow.keras.preprocessing import image"
      ],
      "execution_count": 0,
      "outputs": []
    },
    {
      "cell_type": "markdown",
      "metadata": {
        "id": "0ODc2QhRKL9E",
        "colab_type": "text"
      },
      "source": [
        "## Some Parameters\n",
        "- lr = 0.0002\n",
        "- bs = 32\n",
        "- epochs = 100000\n",
        "- img_dim = 784"
      ]
    },
    {
      "cell_type": "markdown",
      "metadata": {
        "id": "1mW5WdozJfml",
        "colab_type": "text"
      },
      "source": [
        "## Prepare the dataset"
      ]
    },
    {
      "cell_type": "code",
      "metadata": {
        "id": "fsC4dEF0JbZM",
        "colab_type": "code",
        "colab": {
          "base_uri": "https://localhost:8080/",
          "height": 68
        },
        "outputId": "f3781e3c-379e-4833-c56a-41a1228a4f99"
      },
      "source": [
        "(x_train, _), (x_test, _) = keras.datasets.fashion_mnist.load_data()\n",
        "\n",
        "print('Training Samples ', x_train.shape)\n",
        "print('Test Samples',x_test.shape)\n",
        "x_data = np.vstack((x_train, x_test))\n",
        "print('Combined Samples', x_data.shape)"
      ],
      "execution_count": 6,
      "outputs": [
        {
          "output_type": "stream",
          "text": [
            "Training Samples  (60000, 28, 28)\n",
            "Test Samples (10000, 28, 28)\n",
            "Combined Samples (70000, 28, 28)\n"
          ],
          "name": "stdout"
        }
      ]
    },
    {
      "cell_type": "markdown",
      "metadata": {
        "id": "7N85C6-ILm3Y",
        "colab_type": "text"
      },
      "source": [
        "Find the mid point and rotate the other half to create a second domain Y against first half X"
      ]
    },
    {
      "cell_type": "code",
      "metadata": {
        "id": "_b-qdwwkLx-D",
        "colab_type": "code",
        "colab": {}
      },
      "source": [
        "mid_point = int(x_data.shape[0]/2)"
      ],
      "execution_count": 0,
      "outputs": []
    },
    {
      "cell_type": "code",
      "metadata": {
        "id": "1f-LRdd0L2r_",
        "colab_type": "code",
        "colab": {}
      },
      "source": [
        "x_real = x_data[:mid_point]\n",
        "x_real = x_real.reshape(-1, 28*28)"
      ],
      "execution_count": 0,
      "outputs": []
    },
    {
      "cell_type": "code",
      "metadata": {
        "id": "H4QPoC8SL3pj",
        "colab_type": "code",
        "colab": {}
      },
      "source": [
        "x_rotated = x_data[mid_point:].reshape(-1, 28, 28)\n",
        "x_rotated = scipy.ndimage.interpolation.rotate(x_rotated, 90, axes=(1, 2))\n",
        "x_rotated = x_rotated.reshape(-1, 28*28)"
      ],
      "execution_count": 0,
      "outputs": []
    },
    {
      "cell_type": "code",
      "metadata": {
        "id": "UNRCqbt6MbU6",
        "colab_type": "code",
        "colab": {
          "base_uri": "https://localhost:8080/",
          "height": 34
        },
        "outputId": "478d0070-1dbf-4711-ff95-a1f88a8fb142"
      },
      "source": [
        "x_real.shape, x_rotated.shape"
      ],
      "execution_count": 14,
      "outputs": [
        {
          "output_type": "execute_result",
          "data": {
            "text/plain": [
              "((35000, 784), (35000, 784))"
            ]
          },
          "metadata": {
            "tags": []
          },
          "execution_count": 14
        }
      ]
    },
    {
      "cell_type": "markdown",
      "metadata": {
        "id": "qAN3u3JDMtDs",
        "colab_type": "text"
      },
      "source": [
        "Visualize the Images"
      ]
    },
    {
      "cell_type": "code",
      "metadata": {
        "id": "WsQX_SjsMep_",
        "colab_type": "code",
        "colab": {
          "base_uri": "https://localhost:8080/",
          "height": 284
        },
        "outputId": "45c7c1eb-74c4-464f-c71e-14497fc3a018"
      },
      "source": [
        "plt.figure(figsize=(10, 10))\n",
        "fig, axs = plt.subplots(2, 3)\n",
        "for i in range(3):\n",
        "  x_img_real = x_real[i].reshape(28, 28)\n",
        "  x_img_rotated = x_rotated[i].reshape(28, 28)\n",
        "  axs[0][i].imshow(x_img_real)\n",
        "  axs[1][i].imshow(x_img_rotated)\n",
        "  ax.axis('off')"
      ],
      "execution_count": 38,
      "outputs": [
        {
          "output_type": "display_data",
          "data": {
            "text/plain": [
              "<Figure size 720x720 with 0 Axes>"
            ]
          },
          "metadata": {
            "tags": []
          }
        },
        {
          "output_type": "display_data",
          "data": {
            "image/png": "[encoded data removed]",
            "text/plain": [
              "<Figure size 432x288 with 6 Axes>"
            ]
          },
          "metadata": {
            "tags": [],
            "needs_background": "light"
          }
        }
      ]
    },
    {
      "cell_type": "markdown",
      "metadata": {
        "id": "ghB_7uPsP-w_",
        "colab_type": "text"
      },
      "source": [
        "Normalize the dataset and convert into single dataset object"
      ]
    },
    {
      "cell_type": "code",
      "metadata": {
        "id": "eFppHdY_NNI1",
        "colab_type": "code",
        "colab": {}
      },
      "source": [
        "x_real = x_real / 255.\n",
        "x_rotated = x_rotated / 255."
      ],
      "execution_count": 0,
      "outputs": []
    },
    {
      "cell_type": "code",
      "metadata": {
        "id": "k2thSbOaQOU8",
        "colab_type": "code",
        "colab": {}
      },
      "source": [
        "data = tf.data.Dataset.from_tensor_slices((x_real, x_rotated))\n",
        "data = data.shuffle(1024).batch(32).prefetch(16)"
      ],
      "execution_count": 0,
      "outputs": []
    },
    {
      "cell_type": "markdown",
      "metadata": {
        "id": "ab5nhRsBQhHj",
        "colab_type": "text"
      },
      "source": [
        "## Create Models"
      ]
    },
    {
      "cell_type": "markdown",
      "metadata": {
        "id": "Vq4PSIaFQ3X4",
        "colab_type": "text"
      },
      "source": [
        "### Discriminators"
      ]
    },
    {
      "cell_type": "code",
      "metadata": {
        "id": "CnGSP7BJQ7al",
        "colab_type": "code",
        "colab": {}
      },
      "source": [
        "Disc_A = models.Sequential([\n",
        "                            keras.Input(shape=(784,)),\n",
        "                            layers.Dense(128, activation='relu',\n",
        "                                         kernel_initializer=keras.initializers.glorot_normal,\n",
        "                                         bias_initializer=keras.initializers.glorot_normal),\n",
        "                            layers.Dense(1, activation='sigmoid',\n",
        "                                         kernel_initializer=keras.initializers.glorot_normal,\n",
        "                                         bias_initializer=keras.initializers.glorot_normal),\n",
        "])\n",
        "\n",
        "Disc_B = models.Sequential([\n",
        "                            keras.Input(shape=(784,)),\n",
        "                            layers.Dense(128, activation='relu',\n",
        "                                         kernel_initializer=keras.initializers.glorot_normal,\n",
        "                                         bias_initializer=keras.initializers.glorot_normal),\n",
        "                            layers.Dense(1, activation='sigmoid',\n",
        "                                         kernel_initializer=keras.initializers.glorot_normal,\n",
        "                                         bias_initializer=keras.initializers.glorot_normal),\n",
        "])"
      ],
      "execution_count": 0,
      "outputs": []
    },
    {
      "cell_type": "code",
      "metadata": {
        "id": "hhxlESDzS56c",
        "colab_type": "code",
        "colab": {
          "base_uri": "https://localhost:8080/",
          "height": 459
        },
        "outputId": "e03f03a8-77ca-43b4-c701-8fb226bf948f"
      },
      "source": [
        "print(Disc_A.summary())\n",
        "print(Disc_B.summary())"
      ],
      "execution_count": 49,
      "outputs": [
        {
          "output_type": "stream",
          "text": [
            "Model: \"sequential_4\"\n",
            "_________________________________________________________________\n",
            "Layer (type)                 Output Shape              Param #   \n",
            "=================================================================\n",
            "dense_8 (Dense)              (None, 128)               100480    \n",
            "_________________________________________________________________\n",
            "dense_9 (Dense)              (None, 1)                 129       \n",
            "=================================================================\n",
            "Total params: 100,609\n",
            "Trainable params: 100,609\n",
            "Non-trainable params: 0\n",
            "_________________________________________________________________\n",
            "None\n",
            "Model: \"sequential_5\"\n",
            "_________________________________________________________________\n",
            "Layer (type)                 Output Shape              Param #   \n",
            "=================================================================\n",
            "dense_10 (Dense)             (None, 128)               100480    \n",
            "_________________________________________________________________\n",
            "dense_11 (Dense)             (None, 1)                 129       \n",
            "=================================================================\n",
            "Total params: 100,609\n",
            "Trainable params: 100,609\n",
            "Non-trainable params: 0\n",
            "_________________________________________________________________\n",
            "None\n"
          ],
          "name": "stdout"
        }
      ]
    },
    {
      "cell_type": "markdown",
      "metadata": {
        "id": "5QEDC8UqSK4w",
        "colab_type": "text"
      },
      "source": [
        "### Generators"
      ]
    },
    {
      "cell_type": "code",
      "metadata": {
        "id": "9EtDuRiHSA1M",
        "colab_type": "code",
        "colab": {}
      },
      "source": [
        "Gen_AB = models.Sequential([\n",
        "                            keras.Input(shape=(784,)),\n",
        "                            layers.Dense(128, activation='relu',\n",
        "                                         kernel_initializer=keras.initializers.glorot_normal,\n",
        "                                         bias_initializer=keras.initializers.glorot_normal),\n",
        "                            layers.Dense(784, activation='sigmoid',\n",
        "                                         kernel_initializer=keras.initializers.glorot_normal,\n",
        "                                         bias_initializer=keras.initializers.glorot_normal),\n",
        "])\n",
        "\n",
        "Gen_BA = models.Sequential([\n",
        "                            keras.Input(shape=(784,)),\n",
        "                            layers.Dense(128, activation='relu',\n",
        "                                         kernel_initializer=keras.initializers.glorot_normal,\n",
        "                                         bias_initializer=keras.initializers.glorot_normal),\n",
        "                            layers.Dense(784, activation='sigmoid',\n",
        "                                         kernel_initializer=keras.initializers.glorot_normal,\n",
        "                                         bias_initializer=keras.initializers.glorot_normal),\n",
        "])"
      ],
      "execution_count": 0,
      "outputs": []
    },
    {
      "cell_type": "code",
      "metadata": {
        "id": "sV0sEjUwTByv",
        "colab_type": "code",
        "colab": {
          "base_uri": "https://localhost:8080/",
          "height": 459
        },
        "outputId": "a0c7c7aa-7b0a-4904-be2c-f3ff5aee05d1"
      },
      "source": [
        "print(Gen_AB.summary())\n",
        "print(Gen_BA.summary())"
      ],
      "execution_count": 50,
      "outputs": [
        {
          "output_type": "stream",
          "text": [
            "Model: \"sequential_6\"\n",
            "_________________________________________________________________\n",
            "Layer (type)                 Output Shape              Param #   \n",
            "=================================================================\n",
            "dense_12 (Dense)             (None, 128)               100480    \n",
            "_________________________________________________________________\n",
            "dense_13 (Dense)             (None, 784)               101136    \n",
            "=================================================================\n",
            "Total params: 201,616\n",
            "Trainable params: 201,616\n",
            "Non-trainable params: 0\n",
            "_________________________________________________________________\n",
            "None\n",
            "Model: \"sequential_7\"\n",
            "_________________________________________________________________\n",
            "Layer (type)                 Output Shape              Param #   \n",
            "=================================================================\n",
            "dense_14 (Dense)             (None, 128)               100480    \n",
            "_________________________________________________________________\n",
            "dense_15 (Dense)             (None, 784)               101136    \n",
            "=================================================================\n",
            "Total params: 201,616\n",
            "Trainable params: 201,616\n",
            "Non-trainable params: 0\n",
            "_________________________________________________________________\n",
            "None\n"
          ],
          "name": "stdout"
        }
      ]
    },
    {
      "cell_type": "markdown",
      "metadata": {
        "id": "ywW9KPIETHQY",
        "colab_type": "text"
      },
      "source": [
        "## Override Training Step"
      ]
    },
    {
      "cell_type": "code",
      "metadata": {
        "id": "LlQQea0-TLCe",
        "colab_type": "code",
        "colab": {}
      },
      "source": [
        "class CycleGAN(models.Model):\n",
        "\n",
        "  def __init__(self, ):\n",
        "    pass\n",
        "\n",
        "  def compile(self,):\n",
        "    pass\n",
        "\n",
        "  def train_step(self):\n",
        "    pass"
      ],
      "execution_count": 0,
      "outputs": []
    }
  ]
}